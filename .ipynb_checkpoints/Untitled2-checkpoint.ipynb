{
 "cells": [
  {
   "cell_type": "markdown",
   "metadata": {},
   "source": [
    "所以想通过数据分析以下几个问题?\n",
    "\n",
    "1.球员能力,身体素质和薪资的关系?\n",
    "\n",
    "2.哪个球队的薪资比较多?\n",
    "\n",
    "3.这些球队的球员的能力如何?\n",
    "\n",
    "4.是否20%的人掌握了80%的财富"
   ]
  },
  {
   "cell_type": "code",
   "execution_count": null,
   "metadata": {
    "collapsed": false
   },
   "outputs": [],
   "source": [
    "import pandas as pd\n",
    "import numpy as np\n",
    "from pandas.core.frame import DataFrame\n",
    "#获取数据\n",
    "master = pd.read_csv('Master.csv')\n",
    "salaries = pd.read_csv('Salaries.csv')\n",
    "# print salaries.info() "
   ]
  },
  {
   "cell_type": "code",
   "execution_count": null,
   "metadata": {
    "collapsed": false
   },
   "outputs": [],
   "source": [
    "#分析团队薪资趋势\n",
    "import matplotlib as mpl\n",
    "import matplotlib.pyplot as plt\n",
    "import seaborn as sns\n",
    "\n",
    "\n",
    "salaries_team = salaries.groupby(['teamID'])\n",
    "for i, j in salaries_team:\n",
    "#     print j.drop\n",
    "    yearId = j.groupby(['yearID']).mean()\n",
    "    plt.plot(yearId)\n",
    "\n"
   ]
  },
  {
   "cell_type": "code",
   "execution_count": null,
   "metadata": {
    "collapsed": true
   },
   "outputs": [],
   "source": []
  }
 ],
 "metadata": {
  "kernelspec": {
   "display_name": "Python 2",
   "language": "python",
   "name": "python2"
  },
  "language_info": {
   "codemirror_mode": {
    "name": "ipython",
    "version": 2
   },
   "file_extension": ".py",
   "mimetype": "text/x-python",
   "name": "python",
   "nbconvert_exporter": "python",
   "pygments_lexer": "ipython2",
   "version": "2.7.14"
  }
 },
 "nbformat": 4,
 "nbformat_minor": 2
}
