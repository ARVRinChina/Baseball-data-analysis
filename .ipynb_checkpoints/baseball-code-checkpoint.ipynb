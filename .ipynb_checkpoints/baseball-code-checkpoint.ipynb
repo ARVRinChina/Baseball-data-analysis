{
 "cells": [
  {
   "cell_type": "markdown",
   "metadata": {
    "collapsed": true
   },
   "source": [
    "因为不懂球,所以想通过数据分析以下几个问题?\n",
    "1.是否20%的人掌握了80%的财富\n",
    "2.是否薪资越高, 竞争的人数越少\n",
    "\n",
    "有些数据暂时未用到, 还想分析薪资与学历 薪资与身高体重,\n",
    "但是图标一直画的有问题, 暂且这俩问题先放一下"
   ]
  },
  {
   "cell_type": "code",
   "execution_count": 1,
   "metadata": {
    "collapsed": false
   },
   "outputs": [],
   "source": [
    "import pandas as pd\n",
    "import numpy as np\n",
    "from pandas.core.frame import DataFrame\n",
    "# master数据获取===无重复======19105===\n",
    "master = pd.read_csv('Master.csv')\n",
    "# college数据获取====有重复=====17350===保留最后学历\n",
    "collegePlaying = pd.read_csv('CollegePlaying.csv')\n",
    "collegePlaying.duplicated('playerID',False)\n",
    "collegePlaying.drop_duplicates('playerID', keep='last', inplace=True)\n",
    "# salaries数据获取======有重复====26428==保留最后薪水\n",
    "salaries = pd.read_csv('Salaries.csv')\n",
    "salaries.duplicated('playerID',False)\n",
    "salaries.drop_duplicates('playerID', keep='last', inplace=True)"
   ]
  },
  {
   "cell_type": "code",
   "execution_count": 2,
   "metadata": {
    "collapsed": false
   },
   "outputs": [],
   "source": [
    "# 只取2016年的数据\n",
    "salaries_index_2016= salaries.groupby('yearID').groups[2016].values\n",
    "\n",
    "salaries_2016 = pd.DataFrame(salaries, index = salaries_index_2016) #2016 salaries 数据852\n",
    "analyze_playerIds = salaries_2016['playerID'].tolist()\n",
    "\n",
    "master_2016 = master[master['playerID'].isin(analyze_playerIds)]#2016 master数据 844\n",
    "\n",
    "collegePlaying_2016 = collegePlaying[collegePlaying['playerID'].isin(analyze_playerIds)] #2016college 数据 286"
   ]
  },
  {
   "cell_type": "markdown",
   "metadata": {},
   "source": [
    "使用analyze_palyerIds 从master里获取数组\n"
   ]
  },
  {
   "cell_type": "markdown",
   "metadata": {},
   "source": [
    "master不重复的playerId 为19105个\n",
    "collegePlaying 不重复的 playerId 为 6575个\n",
    "salaries 不重复的 playerId 为 5155个\n",
    "判断薪资与那些因素有关系, 最后决定, 只用薪资里 有关的数据"
   ]
  },
  {
   "cell_type": "code",
   "execution_count": 3,
   "metadata": {
    "collapsed": false
   },
   "outputs": [],
   "source": [
    "def add_salary_grade(player):\n",
    "    if player['salary'] >= 10000000:\n",
    "        player['salary_grade'] = 8\n",
    "    if player['salary'] >= 1000000 and player['salary'] <= 9999999:   \n",
    "        player['salary_grade'] = 7\n",
    "    if player['salary'] <= 999999:\n",
    "        player['salary_grade'] = 6\n",
    "  \n",
    "    return player"
   ]
  },
  {
   "cell_type": "code",
   "execution_count": 4,
   "metadata": {
    "collapsed": false
   },
   "outputs": [
    {
     "name": "stdout",
     "output_type": "stream",
     "text": [
      "507500\n"
     ]
    }
   ],
   "source": [
    "# 添加薪资等级\n",
    "salaries_2016 = salaries_2016.apply(add_salary_grade,axis = 1)\n",
    "# print salaries_2016['salary']\n",
    "print salaries_2016['salary'].min()"
   ]
  },
  {
   "cell_type": "code",
   "execution_count": 5,
   "metadata": {
    "collapsed": false
   },
   "outputs": [],
   "source": [
    "# 合并数据\n",
    "merge_college = pd.merge(master_2016,collegePlaying_2016, on=['playerID'],how = 'left')# 844\n",
    "merge_all = pd.merge(merge_college,salaries_2016,on = ['playerID'],how = 'left')# 844"
   ]
  },
  {
   "cell_type": "code",
   "execution_count": 6,
   "metadata": {
    "collapsed": false
   },
   "outputs": [],
   "source": [
    "# 删除掉无用参数 最后的分析数据 844\n",
    "final_Data = merge_all.drop(['birthCountry','birthState','birthCity','bats','throws','debut','retroID','bbrefID','deathYear','deathMonth','deathDay','deathCountry','deathState','deathCity','nameFirst','nameLast','nameGiven','finalGame','yearID_x','yearID_y','teamID','lgID'],axis =1)"
   ]
  },
  {
   "cell_type": "code",
   "execution_count": 7,
   "metadata": {
    "collapsed": false
   },
   "outputs": [
    {
     "name": "stdout",
     "output_type": "stream",
     "text": [
      "0.66\n"
     ]
    }
   ],
   "source": [
    "# 通过薪资排序\n",
    "sort_data = final_Data.sort_values(by='salary', ascending=False)\n",
    "# print sort_data.head()\n",
    "# print sort_data['salary']\n",
    "before_20_num = int(round((0.2 * len(sort_data)),0))\n",
    "# 所有薪资的和\n",
    "sum_salary = sort_data['salary'].sum()\n",
    "before_20_salary = sort_data.iloc[0:before_20_num,:]['salary'].sum()\n",
    "proportion = round(before_20_salary * 1.0 /sum_salary,2)\n",
    "print proportion  #0.66\n",
    "# 得出结论20%的人掌握了薪资总和的66%,虽然离 人们常说的80%有些差距, 但还是说明了社会资产分配中 小部分人掌握了大部分的财富\n"
   ]
  },
  {
   "cell_type": "code",
   "execution_count": 8,
   "metadata": {
    "collapsed": false,
    "scrolled": true
   },
   "outputs": [
    {
     "data": {
      "image/png": "[encoded data removed]",
      "text/plain": [
       "<matplotlib.figure.Figure at 0x10e635890>"
      ]
     },
     "metadata": {},
     "output_type": "display_data"
    }
   ],
   "source": [
    "import matplotlib.pyplot as plt\n",
    "maxNum = sort_data['salary'].max()\n",
    "minNum = sort_data['salary'].min()\n",
    "meanNum = sort_data['salary'].mean()\n",
    "modeNum = sort_data['salary'].mode().values[0]\n",
    "medianNum = sort_data['salary'].median()\n",
    "\n",
    "new_ticks = np.linspace(minNum,maxNum,7)\n",
    "plt.xticks(new_ticks)\n",
    "\n",
    "plt.hist(sort_data['salary'])\n",
    "plt.xlabel('Salary')\n",
    "plt.ylabel('People')\n",
    "plt.title('2016 Data of Salary')\n",
    "\n",
    "plt.text(maxNum/2,500,r'$min:%s$'%minNum)\n",
    "plt.text(maxNum/2,450,r'$max:%s$'%maxNum)\n",
    "plt.text(maxNum/2,400,r'$mode:%s$'%modeNum)\n",
    "plt.text(maxNum/2,350,r'$median:%s$'%medianNum)\n",
    "plt.text(maxNum/2,300,r'$mean:%s$'%meanNum)\n",
    "plt.text(maxNum/2,250,r'$count:%s$'%len(sort_data))\n",
    "\n",
    "plt.show()\n",
    "# 此图可以直观的看出一多半人拿到的薪资在最低值附近, 月薪越高, 人数越少\n",
    "# 也说明了 竞争是个很激烈的过程,但是你每往上走一步,你的竞争对手反而越少"
   ]
  }
 ],
 "metadata": {
  "kernelspec": {
   "display_name": "Python 2",
   "language": "python",
   "name": "python2"
  },
  "language_info": {
   "codemirror_mode": {
    "name": "ipython",
    "version": 2
   },
   "file_extension": ".py",
   "mimetype": "text/x-python",
   "name": "python",
   "nbconvert_exporter": "python",
   "pygments_lexer": "ipython2",
   "version": "2.7.13"
  }
 },
 "nbformat": 4,
 "nbformat_minor": 2
}
